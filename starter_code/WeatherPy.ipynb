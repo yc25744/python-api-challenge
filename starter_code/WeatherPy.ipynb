{
 "cells": [
  {
   "cell_type": "markdown",
   "metadata": {},
   "source": [
    "# WeatherPy\n",
    "----\n",
    "\n",
    "#### Note\n",
    "* Instructions have been included for each segment. You do not have to follow them exactly, but they are included to help you think through the steps."
   ]
  },
  {
   "cell_type": "code",
   "execution_count": 13,
   "metadata": {
    "scrolled": true
   },
   "outputs": [],
   "source": [
    "# Dependencies and Setup\n",
    "import matplotlib.pyplot as plt\n",
    "import pandas as pd\n",
    "import numpy as np\n",
    "import requests\n",
    "import time\n",
    "from scipy.stats import linregress\n",
    "\n",
    "# Import API key\n",
    "from api_keys import weather_api_key\n",
    "\n",
    "# Incorporated citipy to determine city based on latitude and longitude\n",
    "from citipy import citipy\n",
    "\n",
    "# Output File (CSV)\n",
    "output_data_file = \"output_data/cities.csv\"\n",
    "\n",
    "# Range of latitudes and longitudes\n",
    "lat_range = (-90, 90)\n",
    "lng_range = (-180, 180)"
   ]
  },
  {
   "cell_type": "markdown",
   "metadata": {},
   "source": [
    "## Generate Cities List"
   ]
  },
  {
   "cell_type": "code",
   "execution_count": 14,
   "metadata": {},
   "outputs": [
    {
     "data": {
      "text/plain": [
       "614"
      ]
     },
     "execution_count": 14,
     "metadata": {},
     "output_type": "execute_result"
    }
   ],
   "source": [
    "# List for holding lat_lngs and cities\n",
    "lat_lngs = []\n",
    "cities = []\n",
    "\n",
    "# Create a set of random lat and lng combinations\n",
    "lats = np.random.uniform(low=-90.000, high=90.000, size=1500)\n",
    "lngs = np.random.uniform(low=-180.000, high=180.000, size=1500)\n",
    "lat_lngs = zip(lats, lngs)\n",
    "\n",
    "# Identify nearest city for each lat, lng combination\n",
    "for lat_lng in lat_lngs:\n",
    "    city = citipy.nearest_city(lat_lng[0], lat_lng[1]).city_name\n",
    "    \n",
    "    # If the city is unique, then add it to a our cities list\n",
    "    if city not in cities:\n",
    "        cities.append(city)\n",
    "\n",
    "# Print the city count to confirm sufficient count\n",
    "len(cities)"
   ]
  },
  {
   "cell_type": "markdown",
   "metadata": {},
   "source": [
    "### Perform API Calls\n",
    "* Perform a weather check on each city using a series of successive API calls.\n",
    "* Include a print log of each city as it'sbeing processed (with the city number and city name).\n"
   ]
  },
  {
   "cell_type": "code",
   "execution_count": 15,
   "metadata": {},
   "outputs": [
    {
     "data": {
      "text/plain": [
       "'http://api.openweathermap.org/data/2.5/forecast?id=524901&APPID=b6e3aed1bddb6bb142ff8b4087fadffd'"
      ]
     },
     "execution_count": 15,
     "metadata": {},
     "output_type": "execute_result"
    }
   ],
   "source": [
    "url = \"http://api.openweathermap.org/data/2.5/forecast?id=524901&APPID=b6e3aed1bddb6bb142ff8b4087fadffd\"\n",
    "url     "
   ]
  },
  {
   "cell_type": "code",
   "execution_count": 16,
   "metadata": {},
   "outputs": [
    {
     "name": "stdout",
     "output_type": "stream",
     "text": [
      "Processing record0 | longyearbyen\n",
      "Processing record1 | sioux lookout\n",
      "Processing record2 | sapouy\n",
      "Processing record3 | buchanan\n",
      "Processing record4 | edd\n",
      "Processing record5 | oriximina\n",
      "Processing record6 | seymchan\n",
      "Processing record7 | ribeira grande\n",
      "Processing record8 | new norfolk\n",
      "Processing record9 | mataura\n",
      "Processing record10 | khash\n",
      "Processing record11 | laives\n",
      "Processing record12 | xichang\n",
      "Processing record13 | atuona\n",
      "Processing record14 | rikitea\n",
      "Processing record15 | saint-joseph\n",
      "Processing record16 | cayenne\n",
      "Processing record17 | lagoa\n",
      "Processing record18 | bluff\n",
      "Processing record19 | santa isabel\n",
      "Processing record20 | bathsheba\n",
      "Processing record21 | bukachacha\n",
      "Processing record22 | saint george\n",
      "Processing record23 | punta arenas\n",
      "Processing record24 | tillabery\n",
      "Record not found\n",
      "Processing record25 | kavaratti\n",
      "Processing record26 | jamestown\n",
      "Processing record27 | bafra\n",
      "Processing record28 | sitka\n",
      "Processing record29 | tasiilaq\n",
      "Processing record30 | port alfred\n",
      "Processing record31 | hermanus\n",
      "Processing record32 | busselton\n",
      "Processing record33 | santiago del estero\n",
      "Processing record34 | gat\n",
      "Processing record35 | luderitz\n",
      "Processing record36 | hilo\n",
      "Processing record37 | cape town\n",
      "Processing record38 | ushuaia\n",
      "Processing record39 | gao\n",
      "Processing record40 | catamarca\n",
      "Processing record41 | oyem\n",
      "Processing record42 | georgetown\n",
      "Processing record43 | saint-philippe\n",
      "Processing record44 | san quintin\n",
      "Processing record45 | radhanpur\n",
      "Processing record46 | albany\n",
      "Processing record47 | huarmey\n",
      "Processing record48 | dubai\n",
      "Processing record49 | cabo san lucas\n",
      "Processing record50 | lindi\n",
      "Processing record51 | hithadhoo\n",
      "Processing record52 | puerto ayora\n",
      "Processing record53 | griffith\n",
      "Processing record54 | bilibino\n",
      "Processing record55 | kruisfontein\n",
      "Processing record56 | sevenoaks\n",
      "Processing record57 | namibe\n",
      "Processing record58 | bezhetsk\n",
      "Processing record59 | socorro\n",
      "Processing record60 | alekseyevsk\n",
      "Processing record61 | vaini\n",
      "Processing record62 | butaritari\n",
      "Processing record63 | hirara\n",
      "Processing record64 | taolanaro\n",
      "Record not found\n",
      "Processing record65 | kiri buru\n",
      "Processing record66 | tuktoyaktuk\n",
      "Processing record67 | batagay-alyta\n",
      "Processing record68 | darnah\n",
      "Processing record69 | mahibadhoo\n",
      "Processing record70 | palauig\n",
      "Processing record71 | hobart\n",
      "Processing record72 | avarua\n",
      "Processing record73 | port elizabeth\n",
      "Processing record74 | marshall\n",
      "Processing record75 | ponta do sol\n",
      "Processing record76 | fort nelson\n",
      "Processing record77 | airai\n",
      "Processing record78 | ketchikan\n",
      "Processing record79 | tuatapere\n",
      "Processing record80 | lavrentiya\n",
      "Processing record81 | ormond beach\n",
      "Processing record82 | vaitape\n",
      "Processing record83 | mount isa\n",
      "Processing record84 | kochkurovo\n",
      "Processing record85 | te anau\n",
      "Processing record86 | yellowknife\n",
      "Processing record87 | bolungarvik\n",
      "Record not found\n",
      "Processing record88 | seybaplaya\n",
      "Processing record89 | tilichiki\n",
      "Processing record90 | bethel\n",
      "Processing record91 | camalu\n",
      "Processing record92 | xiongyue\n",
      "Processing record93 | fortuna\n",
      "Processing record94 | goma\n",
      "Processing record95 | majene\n",
      "Processing record96 | kaitangata\n",
      "Processing record97 | pevek\n",
      "Processing record98 | bredasdorp\n",
      "Processing record99 | nikolskoye\n",
      "Processing record100 | burica\n",
      "Record not found\n",
      "Processing record101 | aklavik\n",
      "Processing record102 | pitimbu\n",
      "Processing record103 | carnarvon\n",
      "Processing record104 | scalloway\n",
      "Record not found\n",
      "Processing record105 | nizhneyansk\n",
      "Record not found\n",
      "Processing record106 | east london\n",
      "Processing record107 | kahului\n",
      "Processing record108 | katsuura\n",
      "Processing record109 | port hardy\n",
      "Processing record110 | tungor\n",
      "Processing record111 | mahebourg\n",
      "Processing record112 | attawapiskat\n",
      "Record not found\n",
      "Processing record113 | kamloops\n",
      "Processing record114 | hofn\n",
      "Processing record115 | praia\n",
      "Processing record116 | mys shmidta\n",
      "Record not found\n",
      "Processing record117 | khatanga\n",
      "Processing record118 | dunedin\n",
      "Processing record119 | susanville\n",
      "Processing record120 | upernavik\n",
      "Processing record121 | belushya guba\n",
      "Record not found\n",
      "Processing record122 | jakar\n",
      "Processing record123 | tessalit\n",
      "Processing record124 | srednekolymsk\n",
      "Processing record125 | ushtobe\n",
      "Processing record126 | polson\n",
      "Processing record127 | armacao dos buzios\n",
      "Record not found\n",
      "Processing record128 | caravelas\n",
      "Processing record129 | el angel\n",
      "Processing record130 | northam\n",
      "Processing record131 | chumikan\n",
      "Processing record132 | zhezkazgan\n",
      "Processing record133 | lorengau\n",
      "Processing record134 | balikpapan\n",
      "Processing record135 | tiksi\n",
      "Processing record136 | olafsvik\n",
      "Processing record137 | revelstoke\n",
      "Processing record138 | mutterstadt\n",
      "Processing record139 | dikson\n",
      "Processing record140 | chokurdakh\n",
      "Processing record141 | umzimvubu\n",
      "Record not found\n",
      "Processing record142 | cotoca\n",
      "Processing record143 | daru\n",
      "Processing record144 | naryan-mar\n",
      "Processing record145 | henties bay\n",
      "Processing record146 | labuhan\n",
      "Processing record147 | tsihombe\n",
      "Record not found\n",
      "Processing record148 | port lincoln\n",
      "Processing record149 | tura\n",
      "Processing record150 | mao\n",
      "Processing record151 | caloundra\n",
      "Processing record152 | hun\n",
      "Processing record153 | mecca\n",
      "Processing record154 | faya\n",
      "Processing record155 | gizo\n",
      "Processing record156 | avera\n",
      "Processing record157 | megion\n",
      "Processing record158 | ancud\n",
      "Processing record159 | millbrook\n",
      "Processing record160 | plessisville\n",
      "Processing record161 | geraldton\n",
      "Processing record162 | verkhnyaya salda\n",
      "Processing record163 | khirkiya\n",
      "Processing record164 | clinton\n",
      "Processing record165 | castro\n",
      "Processing record166 | lamar\n",
      "Processing record167 | zavallya\n",
      "Processing record168 | vardo\n",
      "Processing record169 | rawannawi\n",
      "Record not found\n",
      "Processing record170 | barrow\n",
      "Processing record171 | daloa\n",
      "Processing record172 | den helder\n",
      "Processing record173 | biak\n",
      "Processing record174 | oktyabrskiy\n",
      "Processing record175 | ayr\n",
      "Processing record176 | hambantota\n",
      "Processing record177 | thompson\n",
      "Processing record178 | kavieng\n",
      "Processing record179 | grand gaube\n",
      "Processing record180 | arlit\n",
      "Processing record181 | mana\n",
      "Processing record182 | san juan\n",
      "Processing record183 | guarapari\n",
      "Processing record184 | chernyshevskiy\n",
      "Processing record185 | torbay\n",
      "Processing record186 | faanui\n",
      "Processing record187 | moerai\n",
      "Processing record188 | fort smith\n",
      "Processing record189 | taicheng\n",
      "Processing record190 | santarem\n",
      "Processing record191 | itarema\n",
      "Processing record192 | victoria\n",
      "Processing record193 | khorixas\n",
      "Processing record194 | mar del plata\n",
      "Processing record195 | qaqortoq\n",
      "Processing record196 | nizhniy tsasuchey\n",
      "Processing record197 | sao filipe\n",
      "Processing record198 | kaabong\n",
      "Processing record199 | saskylakh\n",
      "Processing record200 | flin flon\n",
      "Processing record201 | sena madureira\n",
      "Processing record202 | buqayq\n",
      "Record not found\n",
      "Processing record203 | teya\n",
      "Processing record204 | erzin\n",
      "Processing record205 | candelaria\n",
      "Processing record206 | zhob\n",
      "Processing record207 | baghdad\n",
      "Processing record208 | inhambane\n",
      "Processing record209 | deputatskiy\n",
      "Processing record210 | burns lake\n",
      "Processing record211 | camacha\n",
      "Processing record212 | mantua\n",
      "Processing record213 | yulara\n",
      "Processing record214 | ulaangom\n",
      "Processing record215 | samusu\n",
      "Record not found\n",
      "Processing record216 | san joaquin\n",
      "Processing record217 | sentyabrskiy\n",
      "Record not found\n",
      "Processing record218 | port blair\n",
      "Processing record219 | illoqqortoormiut\n",
      "Record not found\n",
      "Processing record220 | ibaiti\n",
      "Processing record221 | quatre cocos\n",
      "Processing record222 | isla mujeres\n",
      "Processing record223 | sunndalsora\n",
      "Processing record224 | fairbanks\n",
      "Processing record225 | wajima\n",
      "Processing record226 | ilulissat\n",
      "Processing record227 | mbandaka\n",
      "Processing record228 | saleaula\n",
      "Record not found\n",
      "Processing record229 | bardiyah\n",
      "Processing record230 | davila\n",
      "Processing record231 | manadhoo\n",
      "Processing record232 | abonnema\n",
      "Processing record233 | barra do garcas\n",
      "Processing record234 | maragogi\n",
      "Processing record235 | eucaliptus\n",
      "Processing record236 | nuuk\n",
      "Processing record237 | naze\n",
      "Processing record238 | port-gentil\n",
      "Processing record239 | salalah\n",
      "Processing record240 | hasaki\n",
      "Processing record241 | emerald\n",
      "Processing record242 | barreiras\n",
      "Processing record243 | kapaa\n",
      "Processing record244 | mount gambier\n",
      "Processing record245 | lebu\n",
      "Processing record246 | hwange\n",
      "Processing record247 | chuy\n"
     ]
    },
    {
     "name": "stdout",
     "output_type": "stream",
     "text": [
      "Processing record248 | dingle\n",
      "Processing record249 | hoquiam\n",
      "Processing record250 | port moresby\n",
      "Processing record251 | puerto escondido\n",
      "Processing record252 | umm kaddadah\n",
      "Processing record253 | clyde river\n",
      "Processing record254 | san lawrenz\n",
      "Processing record255 | vestbygda\n",
      "Record not found\n",
      "Processing record256 | bambous virieux\n",
      "Processing record257 | leningradskiy\n",
      "Processing record258 | qaanaaq\n",
      "Processing record259 | nemuro\n",
      "Processing record260 | harper\n",
      "Processing record261 | anito\n",
      "Processing record262 | tandalti\n",
      "Processing record263 | cartagena\n",
      "Processing record264 | ye\n",
      "Record not found\n",
      "Processing record265 | guerrero negro\n",
      "Processing record266 | barao de melgaco\n",
      "Processing record267 | marcona\n",
      "Record not found\n",
      "Processing record268 | turukhansk\n",
      "Processing record269 | oranjemund\n",
      "Processing record270 | bambanglipuro\n",
      "Processing record271 | rehoboth\n",
      "Processing record272 | santa isabel do rio negro\n",
      "Processing record273 | poum\n",
      "Processing record274 | tiarei\n",
      "Processing record275 | wellsford\n",
      "Processing record276 | izumo\n",
      "Processing record277 | mehamn\n",
      "Processing record278 | byron bay\n",
      "Processing record279 | port-cartier\n",
      "Processing record280 | wulanhaote\n",
      "Record not found\n",
      "Processing record281 | usogorsk\n",
      "Processing record282 | aljubarrota\n",
      "Processing record283 | prainha\n",
      "Processing record284 | kodiak\n",
      "Processing record285 | kachiry\n",
      "Processing record286 | mogadishu\n",
      "Processing record287 | el rosal\n",
      "Processing record288 | collingwood\n",
      "Processing record289 | charlestown\n",
      "Processing record290 | havoysund\n",
      "Processing record291 | dudinka\n",
      "Processing record292 | uyemskiy\n",
      "Processing record293 | salinopolis\n",
      "Processing record294 | barentsburg\n",
      "Record not found\n",
      "Processing record295 | palmer\n",
      "Processing record296 | rio esteban\n",
      "Processing record297 | iqaluit\n",
      "Processing record298 | lincoln\n",
      "Processing record299 | pisco\n",
      "Processing record300 | college\n",
      "Processing record301 | taltal\n",
      "Processing record302 | taitung\n",
      "Processing record303 | kontagora\n",
      "Processing record304 | kendari\n",
      "Processing record305 | villa carlos paz\n",
      "Processing record306 | grand river south east\n",
      "Record not found\n",
      "Processing record307 | cidreira\n",
      "Processing record308 | dombas\n",
      "Processing record309 | altay\n",
      "Processing record310 | norman wells\n",
      "Processing record311 | yabassi\n",
      "Processing record312 | tres arroyos\n",
      "Processing record313 | katherine\n",
      "Processing record314 | nurota\n",
      "Processing record315 | manokwari\n",
      "Processing record316 | yar-sale\n",
      "Processing record317 | beyneu\n",
      "Processing record318 | praya\n",
      "Processing record319 | roma\n",
      "Processing record320 | algiers\n",
      "Processing record321 | alice springs\n",
      "Processing record322 | laukaa\n",
      "Processing record323 | pekan\n",
      "Processing record324 | boa esperanca\n",
      "Processing record325 | canico\n",
      "Processing record326 | matara\n",
      "Processing record327 | asau\n",
      "Processing record328 | san ciro de acosta\n",
      "Processing record329 | yakima\n",
      "Processing record330 | emilio carranza\n",
      "Processing record331 | ramsar\n",
      "Processing record332 | acarau\n",
      "Processing record333 | omboue\n",
      "Processing record334 | srivardhan\n",
      "Processing record335 | margate\n",
      "Processing record336 | karpathos\n",
      "Processing record337 | williams lake\n",
      "Processing record338 | port hedland\n",
      "Processing record339 | opuwo\n",
      "Processing record340 | orange cove\n",
      "Processing record341 | fukue\n",
      "Processing record342 | honiara\n",
      "Processing record343 | alofi\n",
      "Processing record344 | weyburn\n",
      "Processing record345 | lasa\n",
      "Processing record346 | tomatlan\n",
      "Processing record347 | necochea\n",
      "Processing record348 | bourail\n",
      "Processing record349 | cherskiy\n",
      "Processing record350 | moree\n",
      "Processing record351 | punta de bombon\n",
      "Processing record352 | broome\n",
      "Processing record353 | dodge city\n",
      "Processing record354 | bonthe\n",
      "Processing record355 | the valley\n",
      "Processing record356 | puerto leguizamo\n",
      "Processing record357 | kokopo\n",
      "Processing record358 | laguna\n",
      "Processing record359 | sao joao da barra\n",
      "Processing record360 | bereda\n",
      "Processing record361 | misratah\n",
      "Processing record362 | saldanha\n",
      "Processing record363 | vilyuysk\n",
      "Processing record364 | moura\n",
      "Processing record365 | grajau\n",
      "Processing record366 | constitucion\n",
      "Processing record367 | floro\n",
      "Processing record368 | dolbeau\n",
      "Record not found\n",
      "Processing record369 | broken hill\n",
      "Processing record370 | moses lake\n",
      "Processing record371 | ryotsu\n",
      "Processing record372 | puerto del rosario\n",
      "Processing record373 | san patricio\n",
      "Processing record374 | korla\n",
      "Processing record375 | dalbandin\n",
      "Processing record376 | arraial do cabo\n",
      "Processing record377 | sungairaya\n",
      "Processing record378 | wladyslawowo\n",
      "Processing record379 | novyy urgal\n",
      "Processing record380 | havelock\n",
      "Processing record381 | cairns\n",
      "Processing record382 | raudeberg\n",
      "Processing record383 | tautira\n",
      "Processing record384 | rodeo\n",
      "Processing record385 | severo-kurilsk\n",
      "Processing record386 | canutama\n",
      "Processing record387 | umm durman\n",
      "Record not found\n",
      "Processing record388 | lokoja\n",
      "Processing record389 | smidovich\n",
      "Processing record390 | colares\n",
      "Processing record391 | segou\n",
      "Processing record392 | valdivia\n",
      "Processing record393 | sheridan\n",
      "Processing record394 | rorvik\n",
      "Processing record395 | cockburn town\n",
      "Processing record396 | kindu\n",
      "Processing record397 | shingu\n",
      "Processing record398 | saint-pierre\n",
      "Processing record399 | boyolangu\n",
      "Processing record400 | olinda\n",
      "Processing record401 | north platte\n",
      "Processing record402 | punta alta\n",
      "Processing record403 | berlevag\n",
      "Processing record404 | mikropolis\n",
      "Processing record405 | almaznyy\n",
      "Processing record406 | dicabisagan\n",
      "Processing record407 | vanimo\n",
      "Processing record408 | choix\n",
      "Processing record409 | moundou\n",
      "Processing record410 | yarada\n",
      "Processing record411 | shache\n",
      "Processing record412 | palabuhanratu\n",
      "Record not found\n",
      "Processing record413 | uthal\n",
      "Processing record414 | gamba\n",
      "Processing record415 | galiwinku\n",
      "Record not found\n",
      "Processing record416 | pomerode\n",
      "Processing record417 | kapchorwa\n",
      "Processing record418 | galgani\n",
      "Record not found\n",
      "Processing record419 | rio grande\n",
      "Processing record420 | umm lajj\n",
      "Processing record421 | lobito\n",
      "Processing record422 | aitape\n",
      "Processing record423 | wa\n",
      "Record not found\n",
      "Processing record424 | glubokiy\n",
      "Processing record425 | xai-xai\n",
      "Processing record426 | codrington\n",
      "Processing record427 | shenjiamen\n",
      "Processing record428 | khudumelapye\n",
      "Processing record429 | saint anthony\n",
      "Processing record430 | timra\n",
      "Processing record431 | cozumel\n",
      "Processing record432 | karamay\n",
      "Record not found\n",
      "Processing record433 | mergui\n",
      "Record not found\n",
      "Processing record434 | nanortalik\n",
      "Processing record435 | coahuayana\n",
      "Processing record436 | los llanos de aridane\n",
      "Processing record437 | beringovskiy\n",
      "Processing record438 | arys\n",
      "Processing record439 | half moon bay\n",
      "Processing record440 | kalmunai\n",
      "Processing record441 | skibbereen\n",
      "Processing record442 | araouane\n",
      "Processing record443 | isangel\n",
      "Processing record444 | axim\n",
      "Processing record445 | sulphur\n",
      "Processing record446 | husavik\n",
      "Processing record447 | kihei\n",
      "Processing record448 | dalby\n",
      "Processing record449 | zhigansk\n",
      "Processing record450 | nova olimpia\n",
      "Processing record451 | bokspits\n",
      "Record not found\n",
      "Processing record452 | flinders\n",
      "Processing record453 | portland\n",
      "Processing record454 | haines junction\n",
      "Processing record455 | juba\n",
      "Processing record456 | filadelfia\n",
      "Processing record457 | souillac\n",
      "Processing record458 | lappeenranta\n",
      "Processing record459 | palpa\n",
      "Processing record460 | belaya gora\n",
      "Processing record461 | assiniboia\n",
      "Processing record462 | nazareno\n",
      "Processing record463 | manacapuru\n",
      "Processing record464 | spring hill\n",
      "Processing record465 | erenhot\n",
      "Processing record466 | puerto colombia\n",
      "Processing record467 | fare\n",
      "Processing record468 | amderma\n",
      "Record not found\n",
      "Processing record469 | lompoc\n",
      "Processing record470 | yomitan\n",
      "Record not found\n",
      "Processing record471 | longhua\n",
      "Processing record472 | paracuru\n",
      "Processing record473 | tortoli\n",
      "Processing record474 | kuito\n",
      "Processing record475 | phuket\n",
      "Processing record476 | vao\n",
      "Processing record477 | kainantu\n",
      "Processing record478 | ambanja\n",
      "Processing record479 | sepuka\n",
      "Processing record480 | uzyn\n",
      "Processing record481 | pangnirtung\n",
      "Processing record482 | hovd\n",
      "Processing record483 | rungata\n",
      "Record not found\n",
      "Processing record484 | louisbourg\n",
      "Record not found\n",
      "Processing record485 | warrnambool\n",
      "Processing record486 | domoni\n",
      "Processing record487 | rapid valley\n",
      "Processing record488 | atambua\n",
      "Processing record489 | la ronge\n"
     ]
    },
    {
     "name": "stdout",
     "output_type": "stream",
     "text": [
      "Processing record490 | metro\n",
      "Processing record491 | dalvik\n",
      "Processing record492 | semporna\n",
      "Processing record493 | barcelos\n",
      "Processing record494 | verkhnyaya inta\n",
      "Processing record495 | micheweni\n",
      "Processing record496 | corning\n",
      "Processing record497 | gberia fotombu\n",
      "Processing record498 | kudahuvadhoo\n",
      "Processing record499 | kushima\n",
      "Processing record500 | svetlyy\n",
      "Processing record501 | san felipe\n",
      "Processing record502 | huambo\n",
      "Processing record503 | roura\n",
      "Processing record504 | santa rosa\n",
      "Processing record505 | vaitupu\n",
      "Record not found\n",
      "Processing record506 | clearwater\n",
      "Processing record507 | samalaeulu\n",
      "Record not found\n",
      "Processing record508 | darhan\n",
      "Processing record509 | datong\n",
      "Processing record510 | rocha\n",
      "Processing record511 | kirakira\n",
      "Processing record512 | noumea\n",
      "Processing record513 | walvis bay\n",
      "Processing record514 | sinnamary\n",
      "Processing record515 | alyangula\n",
      "Processing record516 | diamantino\n",
      "Processing record517 | suez\n",
      "Processing record518 | kupang\n",
      "Processing record519 | vila velha\n",
      "Processing record520 | burnie\n",
      "Processing record521 | lolua\n",
      "Record not found\n",
      "Processing record522 | namatanai\n",
      "Processing record523 | ixtapa\n",
      "Processing record524 | aksu\n",
      "Processing record525 | launceston\n",
      "Processing record526 | indaiatuba\n",
      "Processing record527 | obzor\n",
      "Processing record528 | glendive\n",
      "Processing record529 | pokrovsk\n",
      "Processing record530 | otautau\n",
      "Processing record531 | kapandrition\n",
      "Record not found\n",
      "Processing record532 | auki\n",
      "Processing record533 | bay roberts\n",
      "Processing record534 | sangar\n",
      "Processing record535 | tokur\n",
      "Processing record536 | mezen\n",
      "Processing record537 | utete\n",
      "Processing record538 | maloshuyka\n",
      "Record not found\n",
      "Processing record539 | satitoa\n",
      "Record not found\n",
      "Processing record540 | blythe\n",
      "Processing record541 | mayo\n",
      "Processing record542 | provideniya\n",
      "Processing record543 | raton\n",
      "Processing record544 | sabinas hidalgo\n",
      "Processing record545 | puerto quijarro\n",
      "Processing record546 | charters towers\n",
      "Processing record547 | egvekinot\n",
      "Processing record548 | hokitika\n",
      "Processing record549 | anadyr\n",
      "Processing record550 | elizabeth city\n",
      "Processing record551 | tarki\n",
      "Processing record552 | mugur-aksy\n",
      "Processing record553 | komsomolskiy\n",
      "Processing record554 | kolga\n",
      "Processing record555 | kailua\n",
      "Processing record556 | ust-nera\n",
      "Processing record557 | grants pass\n",
      "Processing record558 | sorland\n",
      "Processing record559 | andevoranto\n",
      "Record not found\n",
      "Processing record560 | jacareacanga\n",
      "Processing record561 | rakhiv\n",
      "Processing record562 | aurillac\n",
      "Processing record563 | koboko\n",
      "Processing record564 | lotofaga\n",
      "Processing record565 | talaya\n",
      "Processing record566 | ponta delgada\n",
      "Processing record567 | kampot\n",
      "Processing record568 | makat\n",
      "Processing record569 | bakchar\n",
      "Processing record570 | tshikapa\n",
      "Processing record571 | kuche\n",
      "Record not found\n",
      "Processing record572 | touros\n",
      "Processing record573 | saint-augustin\n",
      "Processing record574 | simbahan\n",
      "Processing record575 | pacific grove\n",
      "Processing record576 | olga\n",
      "Processing record577 | niles\n",
      "Processing record578 | petropavlovsk-kamchatskiy\n",
      "Processing record579 | dehloran\n",
      "Processing record580 | sawankhalok\n",
      "Processing record581 | golden\n",
      "Processing record582 | bauchi\n",
      "Processing record583 | andenes\n",
      "Processing record584 | bera\n",
      "Processing record585 | lindenberg\n",
      "Processing record586 | meulaboh\n",
      "Processing record587 | amga\n",
      "Processing record588 | hay river\n",
      "Processing record589 | omsukchan\n",
      "Processing record590 | tual\n",
      "Processing record591 | lata\n",
      "Processing record592 | zambezi\n",
      "Processing record593 | samarai\n",
      "Processing record594 | kyabe\n",
      "Processing record595 | abbeville\n",
      "Processing record596 | sal rei\n",
      "Processing record597 | burkhala\n",
      "Record not found\n",
      "Processing record598 | awbari\n",
      "Processing record599 | coquimbo\n",
      "Processing record600 | kodinsk\n",
      "Processing record601 | la rioja\n",
      "Processing record602 | bengkulu\n",
      "Processing record603 | talnakh\n",
      "Processing record604 | batsfjord\n",
      "Processing record605 | morehead\n",
      "Processing record606 | udachnyy\n",
      "Processing record607 | cotacachi\n",
      "Processing record608 | sobolevo\n",
      "Processing record609 | santa maria\n",
      "Processing record610 | katobu\n",
      "Processing record611 | ibiruba\n",
      "Processing record612 | mabaruma\n",
      "Processing record613 | arrifes\n"
     ]
    }
   ],
   "source": [
    "cityname = []\n",
    "cloudiness = []\n",
    "country = []\n",
    "date = []\n",
    "humidity = []\n",
    "lat = []\n",
    "lng = []\n",
    "max_temp = []\n",
    "wind_speed = []\n",
    "count = 0\n",
    "\n",
    "for city in cities:\n",
    "    weather_response = requests.get(url + \"&q=\" + city + \"&units=Imperial\")\n",
    "    weather_json = weather_response.json()\n",
    "    try:\n",
    "        print(f'Processing record{cities.index(city)} | {city}')\n",
    "        cityname.append(weather_json['city']['name'])\n",
    "        cloudiness.append(weather_json['list'][0]['clouds']['all'])\n",
    "        country.append(weather_json['city']['country'])\n",
    "        date.append(weather_json['list'][0]['dt'])\n",
    "        humidity.append(weather_json['list'][0]['main']['humidity'])\n",
    "        lat.append(weather_json['city']['coord']['lat'])\n",
    "        lng.append(weather_json['city']['coord']['lon'])\n",
    "        max_temp.append(weather_json['list'][0]['main']['temp_max'])\n",
    "        wind_speed.append(weather_json['list'][0]['wind']['speed'])\n",
    "        count = count + 1\n",
    "        \n",
    "    except:\n",
    "        print(\"Record not found\") \n",
    "        continue"
   ]
  },
  {
   "cell_type": "markdown",
   "metadata": {},
   "source": [
    "### Convert Raw Data to DataFrame\n",
    "* Export the city data into a .csv.\n",
    "* Display the DataFrame"
   ]
  },
  {
   "cell_type": "code",
   "execution_count": 17,
   "metadata": {},
   "outputs": [
    {
     "data": {
      "text/html": [
       "<div>\n",
       "<style scoped>\n",
       "    .dataframe tbody tr th:only-of-type {\n",
       "        vertical-align: middle;\n",
       "    }\n",
       "\n",
       "    .dataframe tbody tr th {\n",
       "        vertical-align: top;\n",
       "    }\n",
       "\n",
       "    .dataframe thead th {\n",
       "        text-align: right;\n",
       "    }\n",
       "</style>\n",
       "<table border=\"1\" class=\"dataframe\">\n",
       "  <thead>\n",
       "    <tr style=\"text-align: right;\">\n",
       "      <th></th>\n",
       "      <th>City</th>\n",
       "      <th>Latitude</th>\n",
       "      <th>Longitude</th>\n",
       "      <th>Max Temp</th>\n",
       "      <th>Humidity</th>\n",
       "      <th>Cloudiness</th>\n",
       "      <th>Wind Speed</th>\n",
       "      <th>Country</th>\n",
       "      <th>Date</th>\n",
       "    </tr>\n",
       "  </thead>\n",
       "  <tbody>\n",
       "    <tr>\n",
       "      <td>0</td>\n",
       "      <td>Longyearbyen</td>\n",
       "      <td>78.2186</td>\n",
       "      <td>15.6401</td>\n",
       "      <td>-0.09</td>\n",
       "      <td>92</td>\n",
       "      <td>100</td>\n",
       "      <td>2.91</td>\n",
       "      <td>SJ</td>\n",
       "      <td>1584673200</td>\n",
       "    </tr>\n",
       "    <tr>\n",
       "      <td>1</td>\n",
       "      <td>Sioux Lookout</td>\n",
       "      <td>50.1001</td>\n",
       "      <td>-91.9170</td>\n",
       "      <td>16.43</td>\n",
       "      <td>92</td>\n",
       "      <td>100</td>\n",
       "      <td>13.06</td>\n",
       "      <td>CA</td>\n",
       "      <td>1584673200</td>\n",
       "    </tr>\n",
       "    <tr>\n",
       "      <td>2</td>\n",
       "      <td>Sapouy</td>\n",
       "      <td>11.5544</td>\n",
       "      <td>-1.7736</td>\n",
       "      <td>85.91</td>\n",
       "      <td>45</td>\n",
       "      <td>100</td>\n",
       "      <td>3.62</td>\n",
       "      <td>BF</td>\n",
       "      <td>1584673200</td>\n",
       "    </tr>\n",
       "    <tr>\n",
       "      <td>3</td>\n",
       "      <td>Buchanan</td>\n",
       "      <td>5.8808</td>\n",
       "      <td>-10.0467</td>\n",
       "      <td>77.45</td>\n",
       "      <td>89</td>\n",
       "      <td>70</td>\n",
       "      <td>3.18</td>\n",
       "      <td>LR</td>\n",
       "      <td>1584673200</td>\n",
       "    </tr>\n",
       "    <tr>\n",
       "      <td>4</td>\n",
       "      <td>Edd</td>\n",
       "      <td>13.9297</td>\n",
       "      <td>41.6925</td>\n",
       "      <td>75.83</td>\n",
       "      <td>87</td>\n",
       "      <td>100</td>\n",
       "      <td>10.47</td>\n",
       "      <td>ER</td>\n",
       "      <td>1584673200</td>\n",
       "    </tr>\n",
       "  </tbody>\n",
       "</table>\n",
       "</div>"
      ],
      "text/plain": [
       "            City  Latitude  Longitude  Max Temp  Humidity  Cloudiness  \\\n",
       "0   Longyearbyen   78.2186    15.6401     -0.09        92         100   \n",
       "1  Sioux Lookout   50.1001   -91.9170     16.43        92         100   \n",
       "2         Sapouy   11.5544    -1.7736     85.91        45         100   \n",
       "3       Buchanan    5.8808   -10.0467     77.45        89          70   \n",
       "4            Edd   13.9297    41.6925     75.83        87         100   \n",
       "\n",
       "   Wind Speed Country        Date  \n",
       "0        2.91      SJ  1584673200  \n",
       "1       13.06      CA  1584673200  \n",
       "2        3.62      BF  1584673200  \n",
       "3        3.18      LR  1584673200  \n",
       "4       10.47      ER  1584673200  "
      ]
     },
     "execution_count": 17,
     "metadata": {},
     "output_type": "execute_result"
    }
   ],
   "source": [
    "weather_dict = {\"City\": cityname,\"Latitude\": lat, \"Longitude\":lng,\n",
    "                \"Max Temp\":max_temp,\"Humidity\":humidity,\"Cloudiness\":cloudiness,\n",
    "                \"Wind Speed\":wind_speed,\"Country\":country, \"Date\":date}\n",
    "weather_data = pd.DataFrame(weather_dict)\n",
    "weather_data.head()"
   ]
  },
  {
   "cell_type": "code",
   "execution_count": 18,
   "metadata": {},
   "outputs": [],
   "source": [
    "weather_data.to_csv(r'output_data\\my_weather_1.csv')"
   ]
  },
  {
   "cell_type": "markdown",
   "metadata": {},
   "source": [
    "### Plotting the Data\n",
    "* Use proper labeling of the plots using plot titles (including date of analysis) and axes labels.\n",
    "* Save the plotted figures as .pngs."
   ]
  },
  {
   "cell_type": "markdown",
   "metadata": {},
   "source": [
    "#### Latitude vs. Temperature Plot"
   ]
  },
  {
   "cell_type": "code",
   "execution_count": 19,
   "metadata": {
    "scrolled": true
   },
   "outputs": [
    {
     "data": {
      "image/png": "[encoded data removed]",
      "text/plain": [
       "<Figure size 432x288 with 1 Axes>"
      ]
     },
     "metadata": {
      "needs_background": "light"
     },
     "output_type": "display_data"
    }
   ],
   "source": [
    "scatlat = weather_data[\"Latitude\"]\n",
    "scattemp = weather_data[\"Max Temp\"]\n",
    "\n",
    "plt.scatter(scatlat,scattemp)\n",
    "plt.title('City Latitude vs. Max Temperature')\n",
    "plt.xlabel('Latitude')\n",
    "plt.ylabel('Max Temperature (F)')\n",
    "plt.savefig('scatplotlatitudemaxtemp')\n",
    "plt.show()"
   ]
  },
  {
   "cell_type": "markdown",
   "metadata": {},
   "source": [
    "#### Latitude vs. Humidity Plot"
   ]
  },
  {
   "cell_type": "code",
   "execution_count": 20,
   "metadata": {},
   "outputs": [
    {
     "data": {
      "image/png": "[encoded data removed]",
      "text/plain": [
       "<Figure size 432x288 with 1 Axes>"
      ]
     },
     "metadata": {
      "needs_background": "light"
     },
     "output_type": "display_data"
    }
   ],
   "source": [
    "scathum = weather_data[\"Humidity\"]\n",
    "\n",
    "plt.scatter(scatlat,scathum)\n",
    "plt.title('City Latitude vs. Humidity')\n",
    "plt.xlabel('Latitude')\n",
    "plt.ylabel('Humidity (%)')\n",
    "plt.savefig('scatplotlatitudehumidity')\n",
    "plt.show()"
   ]
  },
  {
   "cell_type": "markdown",
   "metadata": {},
   "source": [
    "#### Latitude vs. Cloudiness Plot"
   ]
  },
  {
   "cell_type": "code",
   "execution_count": 21,
   "metadata": {},
   "outputs": [
    {
     "data": {
      "image/png": "[encoded data removed]",
      "text/plain": [
       "<Figure size 432x288 with 1 Axes>"
      ]
     },
     "metadata": {
      "needs_background": "light"
     },
     "output_type": "display_data"
    }
   ],
   "source": [
    "scatcloud = weather_data[\"Cloudiness\"]\n",
    "\n",
    "plt.scatter(scatlat,scatcloud)\n",
    "plt.title('City Latitude vs. Cloudiness')\n",
    "plt.xlabel('Latitude')\n",
    "plt.ylabel('Cloudiness (%)')\n",
    "plt.savefig('scatplotlatitudecloudiness')\n",
    "plt.show()"
   ]
  },
  {
   "cell_type": "markdown",
   "metadata": {},
   "source": [
    "#### Latitude vs. Wind Speed Plot"
   ]
  },
  {
   "cell_type": "code",
   "execution_count": 22,
   "metadata": {},
   "outputs": [
    {
     "data": {
      "image/png": "[encoded data removed]",
      "text/plain": [
       "<Figure size 432x288 with 1 Axes>"
      ]
     },
     "metadata": {
      "needs_background": "light"
     },
     "output_type": "display_data"
    }
   ],
   "source": [
    "scatwindsp = weather_data[\"Wind Speed\"]\n",
    "\n",
    "plt.scatter(scatlat,scatwindsp)\n",
    "plt.title('City Latitude vs. Wind Speed')\n",
    "plt.xlabel('Latitude')\n",
    "plt.ylabel('Wind Speed (mph)')\n",
    "plt.savefig('scatplotlatitudewindspeed')\n",
    "plt.show()"
   ]
  },
  {
   "cell_type": "markdown",
   "metadata": {},
   "source": [
    "## Linear Regression"
   ]
  },
  {
   "cell_type": "code",
   "execution_count": 23,
   "metadata": {},
   "outputs": [],
   "source": [
    "# OPTIONAL: Create a function to create Linear Regression plots\n",
    "def plot_linear_regression(x_values, y_values, title, text_coordinates):\n",
    "    (slope, intercept, rvalue, pvalue, stderr) = linregress(x_values, y_values)\n",
    "    regress_values = x_values * slope + intercept\n",
    "    line_eq = \"y = \" + str(round(slope,2)) + \"x + \" + str(round(intercept,2))\n",
    "    \n",
    "    plt.scatter(x_values,y_values)\n",
    "    plt.plot(x_values,regress_values,\"r-\")\n",
    "    plt.annotate(line_eq,text_coordinates,fontsize=14,color=\"red\")\n",
    "    plt.xlabel(\"Latitude\")\n",
    "    plt.ylabel(title)\n",
    "    print(f\"The r-squared is: {rvalue}\")\n",
    "    plt.show()"
   ]
  },
  {
   "cell_type": "code",
   "execution_count": 24,
   "metadata": {},
   "outputs": [
    {
     "data": {
      "text/html": [
       "<div>\n",
       "<style scoped>\n",
       "    .dataframe tbody tr th:only-of-type {\n",
       "        vertical-align: middle;\n",
       "    }\n",
       "\n",
       "    .dataframe tbody tr th {\n",
       "        vertical-align: top;\n",
       "    }\n",
       "\n",
       "    .dataframe thead th {\n",
       "        text-align: right;\n",
       "    }\n",
       "</style>\n",
       "<table border=\"1\" class=\"dataframe\">\n",
       "  <thead>\n",
       "    <tr style=\"text-align: right;\">\n",
       "      <th></th>\n",
       "      <th>City</th>\n",
       "      <th>Latitude</th>\n",
       "      <th>Longitude</th>\n",
       "      <th>Max Temp</th>\n",
       "      <th>Humidity</th>\n",
       "      <th>Cloudiness</th>\n",
       "      <th>Wind Speed</th>\n",
       "      <th>Country</th>\n",
       "      <th>Date</th>\n",
       "    </tr>\n",
       "  </thead>\n",
       "  <tbody>\n",
       "    <tr>\n",
       "      <td>0</td>\n",
       "      <td>Longyearbyen</td>\n",
       "      <td>78.2186</td>\n",
       "      <td>15.6401</td>\n",
       "      <td>-0.09</td>\n",
       "      <td>92</td>\n",
       "      <td>100</td>\n",
       "      <td>2.91</td>\n",
       "      <td>SJ</td>\n",
       "      <td>1584673200</td>\n",
       "    </tr>\n",
       "    <tr>\n",
       "      <td>1</td>\n",
       "      <td>Sioux Lookout</td>\n",
       "      <td>50.1001</td>\n",
       "      <td>-91.9170</td>\n",
       "      <td>16.43</td>\n",
       "      <td>92</td>\n",
       "      <td>100</td>\n",
       "      <td>13.06</td>\n",
       "      <td>CA</td>\n",
       "      <td>1584673200</td>\n",
       "    </tr>\n",
       "    <tr>\n",
       "      <td>2</td>\n",
       "      <td>Sapouy</td>\n",
       "      <td>11.5544</td>\n",
       "      <td>-1.7736</td>\n",
       "      <td>85.91</td>\n",
       "      <td>45</td>\n",
       "      <td>100</td>\n",
       "      <td>3.62</td>\n",
       "      <td>BF</td>\n",
       "      <td>1584673200</td>\n",
       "    </tr>\n",
       "    <tr>\n",
       "      <td>3</td>\n",
       "      <td>Buchanan</td>\n",
       "      <td>5.8808</td>\n",
       "      <td>-10.0467</td>\n",
       "      <td>77.45</td>\n",
       "      <td>89</td>\n",
       "      <td>70</td>\n",
       "      <td>3.18</td>\n",
       "      <td>LR</td>\n",
       "      <td>1584673200</td>\n",
       "    </tr>\n",
       "    <tr>\n",
       "      <td>4</td>\n",
       "      <td>Edd</td>\n",
       "      <td>13.9297</td>\n",
       "      <td>41.6925</td>\n",
       "      <td>75.83</td>\n",
       "      <td>87</td>\n",
       "      <td>100</td>\n",
       "      <td>10.47</td>\n",
       "      <td>ER</td>\n",
       "      <td>1584673200</td>\n",
       "    </tr>\n",
       "  </tbody>\n",
       "</table>\n",
       "</div>"
      ],
      "text/plain": [
       "            City  Latitude  Longitude  Max Temp  Humidity  Cloudiness  \\\n",
       "0   Longyearbyen   78.2186    15.6401     -0.09        92         100   \n",
       "1  Sioux Lookout   50.1001   -91.9170     16.43        92         100   \n",
       "2         Sapouy   11.5544    -1.7736     85.91        45         100   \n",
       "3       Buchanan    5.8808   -10.0467     77.45        89          70   \n",
       "4            Edd   13.9297    41.6925     75.83        87         100   \n",
       "\n",
       "   Wind Speed Country        Date  \n",
       "0        2.91      SJ  1584673200  \n",
       "1       13.06      CA  1584673200  \n",
       "2        3.62      BF  1584673200  \n",
       "3        3.18      LR  1584673200  \n",
       "4       10.47      ER  1584673200  "
      ]
     },
     "execution_count": 24,
     "metadata": {},
     "output_type": "execute_result"
    }
   ],
   "source": [
    "# Create Northern and Southern Hemisphere DataFrames\n",
    "northlat_df = weather_data.loc[weather_data[\"Latitude\"] >= 0,:]\n",
    "southlat_df = weather_data.loc[weather_data[\"Latitude\"] < 0,:]\n",
    "\n",
    "northlat_df.head()"
   ]
  },
  {
   "cell_type": "markdown",
   "metadata": {},
   "source": [
    "####  Northern Hemisphere - Max Temp vs. Latitude Linear Regression"
   ]
  },
  {
   "cell_type": "code",
   "execution_count": 25,
   "metadata": {},
   "outputs": [
    {
     "name": "stdout",
     "output_type": "stream",
     "text": [
      "The r-squared is: -0.8948327124347965\n"
     ]
    },
    {
     "data": {
      "image/png": "[encoded data removed]",
      "text/plain": [
       "<Figure size 432x288 with 1 Axes>"
      ]
     },
     "metadata": {
      "needs_background": "light"
     },
     "output_type": "display_data"
    },
    {
     "data": {
      "text/plain": [
       "<Figure size 432x288 with 0 Axes>"
      ]
     },
     "metadata": {},
     "output_type": "display_data"
    }
   ],
   "source": [
    "x_values = northlat_df[\"Latitude\"]\n",
    "y_values = northlat_df[\"Max Temp\"]\n",
    "plot_linear_regression(x_values,y_values,'Max Temp',(6,30))\n",
    "\n",
    "plt.savefig('northerntemplat')"
   ]
  },
  {
   "cell_type": "markdown",
   "metadata": {},
   "source": [
    "####  Southern Hemisphere - Max Temp vs. Latitude Linear Regression"
   ]
  },
  {
   "cell_type": "code",
   "execution_count": 26,
   "metadata": {},
   "outputs": [
    {
     "name": "stdout",
     "output_type": "stream",
     "text": [
      "The r-squared is: 0.5531757964771036\n"
     ]
    },
    {
     "data": {
      "image/png": "[encoded data removed]",
      "text/plain": [
       "<Figure size 432x288 with 1 Axes>"
      ]
     },
     "metadata": {
      "needs_background": "light"
     },
     "output_type": "display_data"
    },
    {
     "name": "stdout",
     "output_type": "stream",
     "text": [
      "The high r value indicates a strong positive correlation between latitude and max temperature.\n"
     ]
    },
    {
     "data": {
      "text/plain": [
       "<Figure size 432x288 with 0 Axes>"
      ]
     },
     "metadata": {},
     "output_type": "display_data"
    }
   ],
   "source": [
    "x_values = southlat_df[\"Latitude\"]\n",
    "y_values = southlat_df[\"Max Temp\"]\n",
    "plot_linear_regression(x_values,y_values,'Max Temp',(6,30))\n",
    "\n",
    "plt.savefig('southerntemplat')\n",
    "\n",
    "print(\"The high r value indicates a strong positive correlation between latitude and max temperature.\")"
   ]
  },
  {
   "cell_type": "markdown",
   "metadata": {},
   "source": [
    "####  Northern Hemisphere - Humidity (%) vs. Latitude Linear Regression"
   ]
  },
  {
   "cell_type": "code",
   "execution_count": 27,
   "metadata": {},
   "outputs": [
    {
     "name": "stdout",
     "output_type": "stream",
     "text": [
      "The r-squared is: 0.28563150243186597\n"
     ]
    },
    {
     "data": {
      "image/png": "[encoded data removed]",
      "text/plain": [
       "<Figure size 432x288 with 1 Axes>"
      ]
     },
     "metadata": {
      "needs_background": "light"
     },
     "output_type": "display_data"
    },
    {
     "data": {
      "text/plain": [
       "<Figure size 432x288 with 0 Axes>"
      ]
     },
     "metadata": {},
     "output_type": "display_data"
    }
   ],
   "source": [
    "x_values = northlat_df[\"Latitude\"]\n",
    "y_values = northlat_df[\"Humidity\"]\n",
    "plot_linear_regression(x_values,y_values,'Humidity',(6,30))\n",
    "\n",
    "plt.savefig('northernhumlat')"
   ]
  },
  {
   "cell_type": "markdown",
   "metadata": {},
   "source": [
    "####  Southern Hemisphere - Humidity (%) vs. Latitude Linear Regression"
   ]
  },
  {
   "cell_type": "code",
   "execution_count": 28,
   "metadata": {},
   "outputs": [
    {
     "name": "stdout",
     "output_type": "stream",
     "text": [
      "The r-squared is: 0.24671191636289996\n"
     ]
    },
    {
     "data": {
      "image/png": "[encoded data removed]",
      "text/plain": [
       "<Figure size 432x288 with 1 Axes>"
      ]
     },
     "metadata": {
      "needs_background": "light"
     },
     "output_type": "display_data"
    },
    {
     "data": {
      "text/plain": [
       "<Figure size 432x288 with 0 Axes>"
      ]
     },
     "metadata": {},
     "output_type": "display_data"
    }
   ],
   "source": [
    "x_values = southlat_df[\"Latitude\"]\n",
    "y_values = southlat_df[\"Humidity\"]\n",
    "plot_linear_regression(x_values,y_values,'Humidity',(6,30))\n",
    "\n",
    "plt.savefig('southernhumlat')"
   ]
  },
  {
   "cell_type": "markdown",
   "metadata": {},
   "source": [
    "####  Northern Hemisphere - Cloudiness (%) vs. Latitude Linear Regression"
   ]
  },
  {
   "cell_type": "code",
   "execution_count": 29,
   "metadata": {},
   "outputs": [
    {
     "name": "stdout",
     "output_type": "stream",
     "text": [
      "The r-squared is: 0.15426711846145147\n"
     ]
    },
    {
     "data": {
      "image/png": "[encoded data removed]",
      "text/plain": [
       "<Figure size 432x288 with 1 Axes>"
      ]
     },
     "metadata": {
      "needs_background": "light"
     },
     "output_type": "display_data"
    },
    {
     "data": {
      "text/plain": [
       "<Figure size 432x288 with 0 Axes>"
      ]
     },
     "metadata": {},
     "output_type": "display_data"
    }
   ],
   "source": [
    "x_values = northlat_df[\"Latitude\"]\n",
    "y_values = northlat_df[\"Cloudiness\"]\n",
    "plot_linear_regression(x_values,y_values,'Cloudiness',(6,30))\n",
    "\n",
    "plt.savefig('northerncloudlat')"
   ]
  },
  {
   "cell_type": "markdown",
   "metadata": {},
   "source": [
    "####  Southern Hemisphere - Cloudiness (%) vs. Latitude Linear Regression"
   ]
  },
  {
   "cell_type": "code",
   "execution_count": 30,
   "metadata": {},
   "outputs": [
    {
     "name": "stdout",
     "output_type": "stream",
     "text": [
      "The r-squared is: 0.3992318154902329\n"
     ]
    },
    {
     "data": {
      "image/png": "[encoded data removed]",
      "text/plain": [
       "<Figure size 432x288 with 1 Axes>"
      ]
     },
     "metadata": {
      "needs_background": "light"
     },
     "output_type": "display_data"
    },
    {
     "data": {
      "text/plain": [
       "<Figure size 432x288 with 0 Axes>"
      ]
     },
     "metadata": {},
     "output_type": "display_data"
    }
   ],
   "source": [
    "x_values = southlat_df[\"Latitude\"]\n",
    "y_values = southlat_df[\"Cloudiness\"]\n",
    "plot_linear_regression(x_values,y_values,'Cloudiness',(6,30))\n",
    "\n",
    "plt.savefig('southerncloudlat')"
   ]
  },
  {
   "cell_type": "markdown",
   "metadata": {},
   "source": [
    "####  Northern Hemisphere - Wind Speed (mph) vs. Latitude Linear Regression"
   ]
  },
  {
   "cell_type": "code",
   "execution_count": 31,
   "metadata": {},
   "outputs": [
    {
     "name": "stdout",
     "output_type": "stream",
     "text": [
      "The r-squared is: 0.1374459894577864\n"
     ]
    },
    {
     "data": {
      "image/png": "[encoded data removed]",
      "text/plain": [
       "<Figure size 432x288 with 1 Axes>"
      ]
     },
     "metadata": {
      "needs_background": "light"
     },
     "output_type": "display_data"
    },
    {
     "data": {
      "text/plain": [
       "<Figure size 432x288 with 0 Axes>"
      ]
     },
     "metadata": {},
     "output_type": "display_data"
    }
   ],
   "source": [
    "x_values = northlat_df[\"Latitude\"]\n",
    "y_values = northlat_df[\"Wind Speed\"]\n",
    "plot_linear_regression(x_values,y_values,'Wind Speed',(6,30))\n",
    "\n",
    "plt.savefig('northernwindlat')"
   ]
  },
  {
   "cell_type": "markdown",
   "metadata": {},
   "source": [
    "####  Southern Hemisphere - Wind Speed (mph) vs. Latitude Linear Regression"
   ]
  },
  {
   "cell_type": "code",
   "execution_count": 32,
   "metadata": {},
   "outputs": [
    {
     "name": "stdout",
     "output_type": "stream",
     "text": [
      "The r-squared is: -0.32861919998651234\n"
     ]
    },
    {
     "data": {
      "image/png": "[encoded data removed]",
      "text/plain": [
       "<Figure size 432x288 with 1 Axes>"
      ]
     },
     "metadata": {
      "needs_background": "light"
     },
     "output_type": "display_data"
    },
    {
     "data": {
      "text/plain": [
       "<Figure size 432x288 with 0 Axes>"
      ]
     },
     "metadata": {},
     "output_type": "display_data"
    }
   ],
   "source": [
    "x_values = southlat_df[\"Latitude\"]\n",
    "y_values = southlat_df[\"Wind Speed\"]\n",
    "plot_linear_regression(x_values,y_values,'Wind Speed',(6,30))\n",
    "\n",
    "plt.savefig('southernwindlat')"
   ]
  },
  {
   "cell_type": "code",
   "execution_count": null,
   "metadata": {},
   "outputs": [],
   "source": []
  },
  {
   "cell_type": "code",
   "execution_count": null,
   "metadata": {},
   "outputs": [],
   "source": []
  },
  {
   "cell_type": "code",
   "execution_count": null,
   "metadata": {},
   "outputs": [],
   "source": []
  },
  {
   "cell_type": "code",
   "execution_count": null,
   "metadata": {},
   "outputs": [],
   "source": []
  }
 ],
 "metadata": {
  "anaconda-cloud": {},
  "kernel_info": {
   "name": "python3"
  },
  "kernelspec": {
   "display_name": "Python 3",
   "language": "python",
   "name": "python3"
  },
  "language_info": {
   "codemirror_mode": {
    "name": "ipython",
    "version": 3
   },
   "file_extension": ".py",
   "mimetype": "text/x-python",
   "name": "python",
   "nbconvert_exporter": "python",
   "pygments_lexer": "ipython3",
   "version": "3.7.4"
  },
  "latex_envs": {
   "LaTeX_envs_menu_present": true,
   "autoclose": false,
   "autocomplete": true,
   "bibliofile": "biblio.bib",
   "cite_by": "apalike",
   "current_citInitial": 1,
   "eqLabelWithNumbers": true,
   "eqNumInitial": 1,
   "hotkeys": {
    "equation": "Ctrl-E",
    "itemize": "Ctrl-I"
   },
   "labels_anchors": false,
   "latex_user_defs": false,
   "report_style_numbering": false,
   "user_envs_cfg": false
  },
  "nteract": {
   "version": "0.12.3"
  }
 },
 "nbformat": 4,
 "nbformat_minor": 2
}
